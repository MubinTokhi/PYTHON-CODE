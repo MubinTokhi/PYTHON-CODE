{
 "cells": [
  {
   "cell_type": "markdown",
   "id": "72862da9-10fc-45df-be00-ddc726a95abf",
   "metadata": {},
   "source": [
    "## Exercise 1: Prime Numbers"
   ]
  },
  {
   "cell_type": "code",
   "execution_count": 4,
   "id": "3160c7b5-8173-4848-8934-edcbef912809",
   "metadata": {},
   "outputs": [
    {
     "name": "stdout",
     "output_type": "stream",
     "text": [
      "12 is not a prime number.\n"
     ]
    }
   ],
   "source": [
    "def is_prime_loop(num):\n",
    "\n",
    "  if num <= 1:\n",
    "    return False\n",
    "  for i in range(2, int(num**0.5) + 1):\n",
    "    if num % i == 0:\n",
    "      return False\n",
    "  return True\n",
    "\n",
    "# Example usage\n",
    "number = 12\n",
    "if is_prime_loop(number):\n",
    "  print(f\"{number} is a prime number.\")\n",
    "else:\n",
    "  print(f\"{number} is not a prime number.\")\n"
   ]
  },
  {
   "cell_type": "markdown",
   "id": "b7a3cf88-5ea4-4c32-bc0c-2e7ce501f6b6",
   "metadata": {},
   "source": [
    "## Exercise 2: Product of Random Numbers"
   ]
  },
  {
   "cell_type": "code",
   "execution_count": 5,
   "id": "85d0a59a-c3d5-4872-9e3e-65b34bd48f20",
   "metadata": {},
   "outputs": [
    {
     "name": "stdout",
     "output_type": "stream",
     "text": [
      "What is the product of 12 and 100?\n"
     ]
    },
    {
     "name": "stdin",
     "output_type": "stream",
     "text": [
      "Enter your answer:  1200\n"
     ]
    },
    {
     "name": "stdout",
     "output_type": "stream",
     "text": [
      "Congratulations! Your answer is correct.\n"
     ]
    }
   ],
   "source": [
    "import random  #importing random dict to generate auto numbers\n",
    "\n",
    "def generate_and_check_product():\n",
    "  \"\"\"\n",
    "  Generates two random numbers, asks for their product, and checks the answer.\n",
    "  \"\"\"\n",
    "  num1 = random.randint(1, 100) \n",
    "  num2 = random.randint(1, 100) \n",
    " # product of two numbers\n",
    "  product = num1 * num2\n",
    "\n",
    "  print(f\"What is the product of {num1} and {num2}?\")\n",
    "  user_answer = int(input(\"Enter your answer: \"))\n",
    "\n",
    "  if user_answer == product:\n",
    "    print(\"Congratulations! Your answer is correct.\")\n",
    "  else:\n",
    "    print(f\"Incorrect. The correct answer is {product}.\")\n",
    "\n",
    "generate_and_check_product()\n",
    "\n"
   ]
  },
  {
   "cell_type": "markdown",
   "id": "5143c231-ec1d-4b56-9a08-528500153ca0",
   "metadata": {},
   "source": [
    "## Exercise 3: Squares of Even/Odd Numbers"
   ]
  },
  {
   "cell_type": "code",
   "execution_count": 6,
   "id": "7dc07a92-8bd9-4dae-a5af-d5a0ad8aed94",
   "metadata": {},
   "outputs": [
    {
     "name": "stdout",
     "output_type": "stream",
     "text": [
      "Squares of odd numbers within the range of 100 to 200\n",
      "10201\n",
      "10609\n",
      "11025\n",
      "11449\n",
      "11881\n",
      "12321\n",
      "12769\n",
      "13225\n",
      "13689\n",
      "14161\n",
      "14641\n",
      "15129\n",
      "15625\n",
      "16129\n",
      "16641\n",
      "17161\n",
      "17689\n",
      "18225\n",
      "18769\n",
      "19321\n",
      "19881\n",
      "20449\n",
      "21025\n",
      "21609\n",
      "22201\n",
      "22801\n",
      "23409\n",
      "24025\n",
      "24649\n",
      "25281\n",
      "25921\n",
      "26569\n",
      "27225\n",
      "27889\n",
      "28561\n",
      "29241\n",
      "29929\n",
      "30625\n",
      "31329\n",
      "32041\n",
      "32761\n",
      "33489\n",
      "34225\n",
      "34969\n",
      "35721\n",
      "36481\n",
      "37249\n",
      "38025\n",
      "38809\n",
      "39601\n"
     ]
    }
   ],
   "source": [
    "def print_odd_squares(start, end):\n",
    "    print(\"Squares of odd numbers within the range of\", start, \"to\", end)\n",
    "    for num in range(start, end + 1):\n",
    "        if num % 2 != 0:  # Check if the number is odd\n",
    "            print(num ** 2)\n",
    "\n",
    "# Define the range\n",
    "start = 100\n",
    "end = 200\n",
    "\n",
    "# Print the squares of odd numbers within the specified range\n",
    "print_odd_squares(start, end)"
   ]
  },
  {
   "cell_type": "markdown",
   "id": "9d6972ea-39e1-4a76-b2f2-f3559b661e52",
   "metadata": {},
   "source": [
    "## Exercise 4: Word counter"
   ]
  },
  {
   "cell_type": "code",
   "execution_count": 7,
   "id": "f6f3e70c-0160-4e58-b5d8-c6ea37f8d3fd",
   "metadata": {},
   "outputs": [
    {
     "name": "stdout",
     "output_type": "stream",
     "text": [
      "The text contains 6 words.\n"
     ]
    }
   ],
   "source": [
    "def count_words(text):\n",
    "  \n",
    "  # Split the text into a list of words using the split() method\n",
    "  words = text.split()\n",
    "  # Return the length of the list (number of words)\n",
    "  return len(words)\n",
    "\n",
    "# Example usage\n",
    "text = \"Soon we will complete our assignmnets\"\n",
    "number_of_words = count_words(text)\n",
    "print(f\"The text contains {number_of_words} words.\")"
   ]
  },
  {
   "cell_type": "markdown",
   "id": "c5a58d16-251b-4986-ab97-1a001f6276a6",
   "metadata": {},
   "source": [
    "## Exercise 5: Check for Palindrome"
   ]
  },
  {
   "cell_type": "code",
   "execution_count": 13,
   "id": "1a1e624b-6eaf-4368-964e-1b49a9785ee5",
   "metadata": {},
   "outputs": [
    {
     "name": "stdout",
     "output_type": "stream",
     "text": [
      "True\n"
     ]
    }
   ],
   "source": [
    "name = \"racecar\"\n",
    "# finding the length\n",
    "n= len(name)\n",
    "\n",
    "# dividign the length into two  half\n",
    "for i in range( n//2):\n",
    "    # cheackng half of the len with the rest of the len\n",
    "    if name[i] != name[n- i - 1]:\n",
    "        print(False)\n",
    "        break\n",
    "else:\n",
    "    print(True)\n"
   ]
  },
  {
   "cell_type": "code",
   "execution_count": null,
   "id": "f33af663-0b48-467a-8af3-02181182d59b",
   "metadata": {},
   "outputs": [],
   "source": []
  }
 ],
 "metadata": {
  "kernelspec": {
   "display_name": "Python 3 (ipykernel)",
   "language": "python",
   "name": "python3"
  },
  "language_info": {
   "codemirror_mode": {
    "name": "ipython",
    "version": 3
   },
   "file_extension": ".py",
   "mimetype": "text/x-python",
   "name": "python",
   "nbconvert_exporter": "python",
   "pygments_lexer": "ipython3",
   "version": "3.11.5"
  }
 },
 "nbformat": 4,
 "nbformat_minor": 5
}
